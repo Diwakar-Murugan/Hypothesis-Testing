{
 "cells": [
  {
   "cell_type": "markdown",
   "id": "df6b6e51",
   "metadata": {},
   "source": [
    "# ASSIGNMENT 3 - Hypothesis Testing"
   ]
  },
  {
   "cell_type": "code",
   "execution_count": 118,
   "id": "f8d399d2",
   "metadata": {},
   "outputs": [],
   "source": [
    "import pandas as pd\n",
    "import numpy as np\n",
    "import matplotlib.pyplot as plt\n",
    "import seaborn as sns\n",
    "from scipy import stats"
   ]
  },
  {
   "cell_type": "markdown",
   "id": "4ecf3962",
   "metadata": {},
   "source": [
    "# Question 1"
   ]
  },
  {
   "cell_type": "code",
   "execution_count": 119,
   "id": "675ca3a6",
   "metadata": {},
   "outputs": [
    {
     "data": {
      "text/plain": [
       "' Question 1: A F&B manager wants to determine whether there is any significant difference in the diameter of the cutlet \\nbetween two units. A randomly selected sample of cutlets was collected from both units and measured? Analyze the data and \\ndraw inferences at 5% significance level. Please state the assumptions and tests that you carried out to check validity \\nof the assumptions.\\n\\n'"
      ]
     },
     "execution_count": 119,
     "metadata": {},
     "output_type": "execute_result"
    }
   ],
   "source": [
    "''' Question 1: A F&B manager wants to determine whether there is any significant difference in the diameter of the cutlet \n",
    "between two units. A randomly selected sample of cutlets was collected from both units and measured? Analyze the data and \n",
    "draw inferences at 5% significance level. Please state the assumptions and tests that you carried out to check validity \n",
    "of the assumptions.\n",
    "\n",
    "'''"
   ]
  },
  {
   "cell_type": "code",
   "execution_count": 120,
   "id": "1bb86049",
   "metadata": {},
   "outputs": [],
   "source": [
    "ct=pd.read_csv(r'Desktop/Cutlets.csv')"
   ]
  },
  {
   "cell_type": "code",
   "execution_count": 121,
   "id": "fbff72b1",
   "metadata": {},
   "outputs": [
    {
     "data": {
      "text/html": [
       "<div>\n",
       "<style scoped>\n",
       "    .dataframe tbody tr th:only-of-type {\n",
       "        vertical-align: middle;\n",
       "    }\n",
       "\n",
       "    .dataframe tbody tr th {\n",
       "        vertical-align: top;\n",
       "    }\n",
       "\n",
       "    .dataframe thead th {\n",
       "        text-align: right;\n",
       "    }\n",
       "</style>\n",
       "<table border=\"1\" class=\"dataframe\">\n",
       "  <thead>\n",
       "    <tr style=\"text-align: right;\">\n",
       "      <th></th>\n",
       "      <th>Unit A</th>\n",
       "      <th>Unit B</th>\n",
       "    </tr>\n",
       "  </thead>\n",
       "  <tbody>\n",
       "    <tr>\n",
       "      <th>0</th>\n",
       "      <td>6.8090</td>\n",
       "      <td>6.7703</td>\n",
       "    </tr>\n",
       "    <tr>\n",
       "      <th>1</th>\n",
       "      <td>6.4376</td>\n",
       "      <td>7.5093</td>\n",
       "    </tr>\n",
       "    <tr>\n",
       "      <th>2</th>\n",
       "      <td>6.9157</td>\n",
       "      <td>6.7300</td>\n",
       "    </tr>\n",
       "    <tr>\n",
       "      <th>3</th>\n",
       "      <td>7.3012</td>\n",
       "      <td>6.7878</td>\n",
       "    </tr>\n",
       "    <tr>\n",
       "      <th>4</th>\n",
       "      <td>7.4488</td>\n",
       "      <td>7.1522</td>\n",
       "    </tr>\n",
       "    <tr>\n",
       "      <th>5</th>\n",
       "      <td>7.3871</td>\n",
       "      <td>6.8110</td>\n",
       "    </tr>\n",
       "    <tr>\n",
       "      <th>6</th>\n",
       "      <td>6.8755</td>\n",
       "      <td>7.2212</td>\n",
       "    </tr>\n",
       "    <tr>\n",
       "      <th>7</th>\n",
       "      <td>7.0621</td>\n",
       "      <td>6.6606</td>\n",
       "    </tr>\n",
       "    <tr>\n",
       "      <th>8</th>\n",
       "      <td>6.6840</td>\n",
       "      <td>7.2402</td>\n",
       "    </tr>\n",
       "    <tr>\n",
       "      <th>9</th>\n",
       "      <td>6.8236</td>\n",
       "      <td>7.0503</td>\n",
       "    </tr>\n",
       "    <tr>\n",
       "      <th>10</th>\n",
       "      <td>7.3930</td>\n",
       "      <td>6.8810</td>\n",
       "    </tr>\n",
       "    <tr>\n",
       "      <th>11</th>\n",
       "      <td>7.5169</td>\n",
       "      <td>7.4059</td>\n",
       "    </tr>\n",
       "    <tr>\n",
       "      <th>12</th>\n",
       "      <td>6.9246</td>\n",
       "      <td>6.7652</td>\n",
       "    </tr>\n",
       "    <tr>\n",
       "      <th>13</th>\n",
       "      <td>6.9256</td>\n",
       "      <td>6.0380</td>\n",
       "    </tr>\n",
       "    <tr>\n",
       "      <th>14</th>\n",
       "      <td>6.5797</td>\n",
       "      <td>7.1581</td>\n",
       "    </tr>\n",
       "    <tr>\n",
       "      <th>15</th>\n",
       "      <td>6.8394</td>\n",
       "      <td>7.0240</td>\n",
       "    </tr>\n",
       "    <tr>\n",
       "      <th>16</th>\n",
       "      <td>6.5970</td>\n",
       "      <td>6.6672</td>\n",
       "    </tr>\n",
       "    <tr>\n",
       "      <th>17</th>\n",
       "      <td>7.2705</td>\n",
       "      <td>7.4314</td>\n",
       "    </tr>\n",
       "    <tr>\n",
       "      <th>18</th>\n",
       "      <td>7.2828</td>\n",
       "      <td>7.3070</td>\n",
       "    </tr>\n",
       "    <tr>\n",
       "      <th>19</th>\n",
       "      <td>7.3495</td>\n",
       "      <td>6.7478</td>\n",
       "    </tr>\n",
       "    <tr>\n",
       "      <th>20</th>\n",
       "      <td>6.9438</td>\n",
       "      <td>6.8889</td>\n",
       "    </tr>\n",
       "    <tr>\n",
       "      <th>21</th>\n",
       "      <td>7.1560</td>\n",
       "      <td>7.4220</td>\n",
       "    </tr>\n",
       "    <tr>\n",
       "      <th>22</th>\n",
       "      <td>6.5341</td>\n",
       "      <td>6.5217</td>\n",
       "    </tr>\n",
       "    <tr>\n",
       "      <th>23</th>\n",
       "      <td>7.2854</td>\n",
       "      <td>7.1688</td>\n",
       "    </tr>\n",
       "    <tr>\n",
       "      <th>24</th>\n",
       "      <td>6.9952</td>\n",
       "      <td>6.7594</td>\n",
       "    </tr>\n",
       "    <tr>\n",
       "      <th>25</th>\n",
       "      <td>6.8568</td>\n",
       "      <td>6.9399</td>\n",
       "    </tr>\n",
       "    <tr>\n",
       "      <th>26</th>\n",
       "      <td>7.2163</td>\n",
       "      <td>7.0133</td>\n",
       "    </tr>\n",
       "    <tr>\n",
       "      <th>27</th>\n",
       "      <td>6.6801</td>\n",
       "      <td>6.9182</td>\n",
       "    </tr>\n",
       "    <tr>\n",
       "      <th>28</th>\n",
       "      <td>6.9431</td>\n",
       "      <td>6.3346</td>\n",
       "    </tr>\n",
       "    <tr>\n",
       "      <th>29</th>\n",
       "      <td>7.0852</td>\n",
       "      <td>7.5459</td>\n",
       "    </tr>\n",
       "    <tr>\n",
       "      <th>30</th>\n",
       "      <td>6.7794</td>\n",
       "      <td>7.0992</td>\n",
       "    </tr>\n",
       "    <tr>\n",
       "      <th>31</th>\n",
       "      <td>7.2783</td>\n",
       "      <td>7.1180</td>\n",
       "    </tr>\n",
       "    <tr>\n",
       "      <th>32</th>\n",
       "      <td>7.1561</td>\n",
       "      <td>6.6965</td>\n",
       "    </tr>\n",
       "    <tr>\n",
       "      <th>33</th>\n",
       "      <td>7.3943</td>\n",
       "      <td>6.5780</td>\n",
       "    </tr>\n",
       "    <tr>\n",
       "      <th>34</th>\n",
       "      <td>6.9405</td>\n",
       "      <td>7.3875</td>\n",
       "    </tr>\n",
       "  </tbody>\n",
       "</table>\n",
       "</div>"
      ],
      "text/plain": [
       "    Unit A  Unit B\n",
       "0   6.8090  6.7703\n",
       "1   6.4376  7.5093\n",
       "2   6.9157  6.7300\n",
       "3   7.3012  6.7878\n",
       "4   7.4488  7.1522\n",
       "5   7.3871  6.8110\n",
       "6   6.8755  7.2212\n",
       "7   7.0621  6.6606\n",
       "8   6.6840  7.2402\n",
       "9   6.8236  7.0503\n",
       "10  7.3930  6.8810\n",
       "11  7.5169  7.4059\n",
       "12  6.9246  6.7652\n",
       "13  6.9256  6.0380\n",
       "14  6.5797  7.1581\n",
       "15  6.8394  7.0240\n",
       "16  6.5970  6.6672\n",
       "17  7.2705  7.4314\n",
       "18  7.2828  7.3070\n",
       "19  7.3495  6.7478\n",
       "20  6.9438  6.8889\n",
       "21  7.1560  7.4220\n",
       "22  6.5341  6.5217\n",
       "23  7.2854  7.1688\n",
       "24  6.9952  6.7594\n",
       "25  6.8568  6.9399\n",
       "26  7.2163  7.0133\n",
       "27  6.6801  6.9182\n",
       "28  6.9431  6.3346\n",
       "29  7.0852  7.5459\n",
       "30  6.7794  7.0992\n",
       "31  7.2783  7.1180\n",
       "32  7.1561  6.6965\n",
       "33  7.3943  6.5780\n",
       "34  6.9405  7.3875"
      ]
     },
     "execution_count": 121,
     "metadata": {},
     "output_type": "execute_result"
    }
   ],
   "source": [
    "ct"
   ]
  },
  {
   "cell_type": "code",
   "execution_count": 122,
   "id": "9adbed14",
   "metadata": {},
   "outputs": [],
   "source": [
    "# Null Hypothesis H0: No significant difference in diameter of cutlets two units \n",
    "# Alternative Hypothesis H1: Significant difference in the diameter of cutlets of two units"
   ]
  },
  {
   "cell_type": "code",
   "execution_count": 123,
   "id": "b1058f13",
   "metadata": {},
   "outputs": [],
   "source": [
    "unit_A=pd.Series(ct['Unit A'])\n",
    "unit_B=pd.Series(ct['Unit B'])"
   ]
  },
  {
   "cell_type": "code",
   "execution_count": 124,
   "id": "cef38624",
   "metadata": {},
   "outputs": [
    {
     "data": {
      "text/plain": [
       "Ttest_indResult(statistic=0.7228688704678063, pvalue=0.4722394724599501)"
      ]
     },
     "execution_count": 124,
     "metadata": {},
     "output_type": "execute_result"
    }
   ],
   "source": [
    "Result=stats.ttest_ind(unit_A,unit_B,alternative='two-sided')\n",
    "Result"
   ]
  },
  {
   "cell_type": "code",
   "execution_count": 125,
   "id": "02e113ac",
   "metadata": {},
   "outputs": [
    {
     "name": "stdout",
     "output_type": "stream",
     "text": [
      "The probability of Null hypothesis to be accepted is 47.22 %\n"
     ]
    }
   ],
   "source": [
    "print(\"The probability of Null hypothesis to be accepted is\",round(Result[1]*100,2),'%')"
   ]
  },
  {
   "cell_type": "code",
   "execution_count": 126,
   "id": "66302fbf",
   "metadata": {},
   "outputs": [
    {
     "name": "stdout",
     "output_type": "stream",
     "text": [
      "Null hypothesis is accepted i.e. No significant difference in diameter\n"
     ]
    }
   ],
   "source": [
    "if (Result[1]>0.05):     #Significance level is 5%\n",
    "    print(\"Null hypothesis is accepted i.e. No significant difference in diameter\")\n",
    "else:\n",
    "    print(\"Null hypothesis is rejected i.e. There is significant difference in diameter\")"
   ]
  },
  {
   "cell_type": "markdown",
   "id": "598d41be",
   "metadata": {},
   "source": [
    "# Question 2"
   ]
  },
  {
   "cell_type": "code",
   "execution_count": 127,
   "id": "83bdafea",
   "metadata": {},
   "outputs": [
    {
     "data": {
      "text/plain": [
       "\"'A hospital wants to determine whether there is any difference in the average Turn Around Time (TAT) of reports \\nof the laboratories on their preferred list. They collected a random sample and recorded TAT for reports of 4 laboratories.\\nTAT is defined as sample collected to report dispatch. Analyze the data and determine whether there is any difference \\nin average TAT among the different laboratories at 5% significance level.\""
      ]
     },
     "execution_count": 127,
     "metadata": {},
     "output_type": "execute_result"
    }
   ],
   "source": [
    "''''A hospital wants to determine whether there is any difference in the average Turn Around Time (TAT) of reports \n",
    "of the laboratories on their preferred list. They collected a random sample and recorded TAT for reports of 4 laboratories.\n",
    "TAT is defined as sample collected to report dispatch. Analyze the data and determine whether there is any difference \n",
    "in average TAT among the different laboratories at 5% significance level.'''\n"
   ]
  },
  {
   "cell_type": "code",
   "execution_count": 128,
   "id": "3307d110",
   "metadata": {},
   "outputs": [],
   "source": [
    "tat=pd.read_csv(r'Desktop/LabTAT.csv')"
   ]
  },
  {
   "cell_type": "code",
   "execution_count": 129,
   "id": "f546e378",
   "metadata": {},
   "outputs": [
    {
     "data": {
      "text/html": [
       "<div>\n",
       "<style scoped>\n",
       "    .dataframe tbody tr th:only-of-type {\n",
       "        vertical-align: middle;\n",
       "    }\n",
       "\n",
       "    .dataframe tbody tr th {\n",
       "        vertical-align: top;\n",
       "    }\n",
       "\n",
       "    .dataframe thead th {\n",
       "        text-align: right;\n",
       "    }\n",
       "</style>\n",
       "<table border=\"1\" class=\"dataframe\">\n",
       "  <thead>\n",
       "    <tr style=\"text-align: right;\">\n",
       "      <th></th>\n",
       "      <th>Laboratory 1</th>\n",
       "      <th>Laboratory 2</th>\n",
       "      <th>Laboratory 3</th>\n",
       "      <th>Laboratory 4</th>\n",
       "    </tr>\n",
       "  </thead>\n",
       "  <tbody>\n",
       "    <tr>\n",
       "      <th>0</th>\n",
       "      <td>185.35</td>\n",
       "      <td>165.53</td>\n",
       "      <td>176.70</td>\n",
       "      <td>166.13</td>\n",
       "    </tr>\n",
       "    <tr>\n",
       "      <th>1</th>\n",
       "      <td>170.49</td>\n",
       "      <td>185.91</td>\n",
       "      <td>198.45</td>\n",
       "      <td>160.79</td>\n",
       "    </tr>\n",
       "    <tr>\n",
       "      <th>2</th>\n",
       "      <td>192.77</td>\n",
       "      <td>194.92</td>\n",
       "      <td>201.23</td>\n",
       "      <td>185.18</td>\n",
       "    </tr>\n",
       "    <tr>\n",
       "      <th>3</th>\n",
       "      <td>177.33</td>\n",
       "      <td>183.00</td>\n",
       "      <td>199.61</td>\n",
       "      <td>176.42</td>\n",
       "    </tr>\n",
       "    <tr>\n",
       "      <th>4</th>\n",
       "      <td>193.41</td>\n",
       "      <td>169.57</td>\n",
       "      <td>204.63</td>\n",
       "      <td>152.60</td>\n",
       "    </tr>\n",
       "    <tr>\n",
       "      <th>...</th>\n",
       "      <td>...</td>\n",
       "      <td>...</td>\n",
       "      <td>...</td>\n",
       "      <td>...</td>\n",
       "    </tr>\n",
       "    <tr>\n",
       "      <th>115</th>\n",
       "      <td>178.49</td>\n",
       "      <td>170.66</td>\n",
       "      <td>193.80</td>\n",
       "      <td>172.68</td>\n",
       "    </tr>\n",
       "    <tr>\n",
       "      <th>116</th>\n",
       "      <td>176.08</td>\n",
       "      <td>183.98</td>\n",
       "      <td>215.25</td>\n",
       "      <td>177.64</td>\n",
       "    </tr>\n",
       "    <tr>\n",
       "      <th>117</th>\n",
       "      <td>202.48</td>\n",
       "      <td>174.54</td>\n",
       "      <td>203.99</td>\n",
       "      <td>170.27</td>\n",
       "    </tr>\n",
       "    <tr>\n",
       "      <th>118</th>\n",
       "      <td>182.40</td>\n",
       "      <td>197.18</td>\n",
       "      <td>194.52</td>\n",
       "      <td>150.87</td>\n",
       "    </tr>\n",
       "    <tr>\n",
       "      <th>119</th>\n",
       "      <td>182.09</td>\n",
       "      <td>215.17</td>\n",
       "      <td>221.49</td>\n",
       "      <td>162.21</td>\n",
       "    </tr>\n",
       "  </tbody>\n",
       "</table>\n",
       "<p>120 rows × 4 columns</p>\n",
       "</div>"
      ],
      "text/plain": [
       "     Laboratory 1  Laboratory 2  Laboratory 3  Laboratory 4\n",
       "0          185.35        165.53        176.70        166.13\n",
       "1          170.49        185.91        198.45        160.79\n",
       "2          192.77        194.92        201.23        185.18\n",
       "3          177.33        183.00        199.61        176.42\n",
       "4          193.41        169.57        204.63        152.60\n",
       "..            ...           ...           ...           ...\n",
       "115        178.49        170.66        193.80        172.68\n",
       "116        176.08        183.98        215.25        177.64\n",
       "117        202.48        174.54        203.99        170.27\n",
       "118        182.40        197.18        194.52        150.87\n",
       "119        182.09        215.17        221.49        162.21\n",
       "\n",
       "[120 rows x 4 columns]"
      ]
     },
     "execution_count": 129,
     "metadata": {},
     "output_type": "execute_result"
    }
   ],
   "source": [
    "tat"
   ]
  },
  {
   "cell_type": "code",
   "execution_count": 130,
   "id": "e569e1de",
   "metadata": {},
   "outputs": [],
   "source": [
    "# Null Hypothesis H0: No difference in the Turn Around Time of 4 laboratories \n",
    "# Alternative Hypothesis H1: Significant difference in the Turn Around Time of 4 laboratories"
   ]
  },
  {
   "cell_type": "code",
   "execution_count": 131,
   "id": "2099c96c",
   "metadata": {},
   "outputs": [
    {
     "data": {
      "text/plain": [
       "F_onewayResult(statistic=118.70421654401437, pvalue=2.1156708949992414e-57)"
      ]
     },
     "execution_count": 131,
     "metadata": {},
     "output_type": "execute_result"
    }
   ],
   "source": [
    "p_value=stats.f_oneway(tat.iloc[:,0],tat.iloc[:,1],tat.iloc[:,2],tat.iloc[:,3])\n",
    "p_value"
   ]
  },
  {
   "cell_type": "code",
   "execution_count": 132,
   "id": "642c789c",
   "metadata": {},
   "outputs": [
    {
     "name": "stdout",
     "output_type": "stream",
     "text": [
      "There is difference in the Turn Around time of 4 laboratories i.e. Null hypothesis is rejected\n"
     ]
    }
   ],
   "source": [
    "if (p_value[1]>0.05):           #Significance level is 5%\n",
    "    print(\"There is no difference in the Turn Around time of 4 laboratories i.e. Null hypothesis is accepted\")\n",
    "else:\n",
    "    print(\"There is difference in the Turn Around time of 4 laboratories i.e. Null hypothesis is rejected\")"
   ]
  },
  {
   "cell_type": "markdown",
   "id": "6a7ca8b8",
   "metadata": {},
   "source": [
    "# Question 3"
   ]
  },
  {
   "cell_type": "code",
   "execution_count": 133,
   "id": "2d950eb1",
   "metadata": {},
   "outputs": [
    {
     "data": {
      "text/plain": [
       "'Question 3: Sales of products in four different regions is tabulated for males and females. \\nFind if male-female buyer rations are similar across regions.'"
      ]
     },
     "execution_count": 133,
     "metadata": {},
     "output_type": "execute_result"
    }
   ],
   "source": [
    "'''Question 3: Sales of products in four different regions is tabulated for males and females. \n",
    "Find if male-female buyer rations are similar across regions.'''"
   ]
  },
  {
   "cell_type": "code",
   "execution_count": 134,
   "id": "1f716615",
   "metadata": {},
   "outputs": [],
   "source": [
    "br=pd.read_csv(r'Desktop/BuyerRatio.csv')"
   ]
  },
  {
   "cell_type": "code",
   "execution_count": 135,
   "id": "83c2dc56",
   "metadata": {},
   "outputs": [
    {
     "data": {
      "text/html": [
       "<div>\n",
       "<style scoped>\n",
       "    .dataframe tbody tr th:only-of-type {\n",
       "        vertical-align: middle;\n",
       "    }\n",
       "\n",
       "    .dataframe tbody tr th {\n",
       "        vertical-align: top;\n",
       "    }\n",
       "\n",
       "    .dataframe thead th {\n",
       "        text-align: right;\n",
       "    }\n",
       "</style>\n",
       "<table border=\"1\" class=\"dataframe\">\n",
       "  <thead>\n",
       "    <tr style=\"text-align: right;\">\n",
       "      <th></th>\n",
       "      <th>Observed Values</th>\n",
       "      <th>East</th>\n",
       "      <th>West</th>\n",
       "      <th>North</th>\n",
       "      <th>South</th>\n",
       "    </tr>\n",
       "  </thead>\n",
       "  <tbody>\n",
       "    <tr>\n",
       "      <th>0</th>\n",
       "      <td>Males</td>\n",
       "      <td>50</td>\n",
       "      <td>142</td>\n",
       "      <td>131</td>\n",
       "      <td>70</td>\n",
       "    </tr>\n",
       "    <tr>\n",
       "      <th>1</th>\n",
       "      <td>Females</td>\n",
       "      <td>435</td>\n",
       "      <td>1523</td>\n",
       "      <td>1356</td>\n",
       "      <td>750</td>\n",
       "    </tr>\n",
       "  </tbody>\n",
       "</table>\n",
       "</div>"
      ],
      "text/plain": [
       "  Observed Values  East  West  North  South\n",
       "0           Males    50   142    131     70\n",
       "1         Females   435  1523   1356    750"
      ]
     },
     "execution_count": 135,
     "metadata": {},
     "output_type": "execute_result"
    }
   ],
   "source": [
    "br"
   ]
  },
  {
   "cell_type": "code",
   "execution_count": 136,
   "id": "240c9cba",
   "metadata": {},
   "outputs": [],
   "source": [
    "# Null Hypothesis H0: Variables are independent i.e. no relation b/w two categorical variables\n",
    "# Alternative Hypothesis H1: Variables are dependent i.e. There is a relation b/w two categorical variables"
   ]
  },
  {
   "cell_type": "code",
   "execution_count": 137,
   "id": "0074409b",
   "metadata": {},
   "outputs": [],
   "source": [
    "from scipy.stats import chi2_contingency\n",
    "from scipy.stats import chi2"
   ]
  },
  {
   "cell_type": "code",
   "execution_count": 138,
   "id": "434767d5",
   "metadata": {},
   "outputs": [],
   "source": [
    "br1=[[50,142,131,70],[435,1523,1356,750]]"
   ]
  },
  {
   "cell_type": "code",
   "execution_count": 139,
   "id": "ceba49b4",
   "metadata": {},
   "outputs": [],
   "source": [
    "statistic_value3,p3,dof3,expected3=chi2_contingency(br1)"
   ]
  },
  {
   "cell_type": "code",
   "execution_count": 140,
   "id": "2609d80e",
   "metadata": {},
   "outputs": [
    {
     "data": {
      "text/plain": [
       "1.595945538661058"
      ]
     },
     "execution_count": 140,
     "metadata": {},
     "output_type": "execute_result"
    }
   ],
   "source": [
    "statistic_value3"
   ]
  },
  {
   "cell_type": "code",
   "execution_count": 141,
   "id": "2ae294d0",
   "metadata": {},
   "outputs": [
    {
     "data": {
      "text/plain": [
       "0.6603094907091882"
      ]
     },
     "execution_count": 141,
     "metadata": {},
     "output_type": "execute_result"
    }
   ],
   "source": [
    "p3"
   ]
  },
  {
   "cell_type": "code",
   "execution_count": 142,
   "id": "29f03b02",
   "metadata": {},
   "outputs": [
    {
     "data": {
      "text/plain": [
       "3"
      ]
     },
     "execution_count": 142,
     "metadata": {},
     "output_type": "execute_result"
    }
   ],
   "source": [
    "dof3"
   ]
  },
  {
   "cell_type": "code",
   "execution_count": 143,
   "id": "c8a31dcc",
   "metadata": {},
   "outputs": [
    {
     "data": {
      "text/plain": [
       "array([[  42.76531299,  146.81287862,  131.11756787,   72.30424052],\n",
       "       [ 442.23468701, 1518.18712138, 1355.88243213,  747.69575948]])"
      ]
     },
     "execution_count": 143,
     "metadata": {},
     "output_type": "execute_result"
    }
   ],
   "source": [
    "expected3"
   ]
  },
  {
   "cell_type": "code",
   "execution_count": 144,
   "id": "9d9ebbcf",
   "metadata": {},
   "outputs": [
    {
     "name": "stdout",
     "output_type": "stream",
     "text": [
      "Statistical value is 1.596\n",
      "critical value is 7.815\n",
      "H0 is accepted, variables are unrelated and independent\n"
     ]
    }
   ],
   "source": [
    "alpha = 0.05\n",
    "prob=1-alpha\n",
    "critical_value3 = chi2.ppf(prob, dof3)\n",
    "print('Statistical value is', round(statistic_value3,3))\n",
    "print('critical value is',round(critical_value3,3))\n",
    "if abs(statistic_value3) < critical_value3:\n",
    "    print('H0 is accepted, variables are unrelated and independent')\n",
    "else:\n",
    "    print('H0 is rejected, variables are related and dependent')"
   ]
  },
  {
   "cell_type": "markdown",
   "id": "74cc4a37",
   "metadata": {},
   "source": [
    "# Question 4"
   ]
  },
  {
   "cell_type": "code",
   "execution_count": 145,
   "id": "06971534",
   "metadata": {},
   "outputs": [
    {
     "data": {
      "text/plain": [
       "'TeleCall uses 4 centers around the globe to process customer order forms. They audit a certain %  of the customer \\norder forms. Any error in order form renders it defective and has to be reworked before processing.  The manager wants to \\ncheck whether the defective %  varies by centre. Please analyze the data at 5% significance level and help the manager \\ndraw appropriate inferences'"
      ]
     },
     "execution_count": 145,
     "metadata": {},
     "output_type": "execute_result"
    }
   ],
   "source": [
    "'''TeleCall uses 4 centers around the globe to process customer order forms. They audit a certain %  of the customer \n",
    "order forms. Any error in order form renders it defective and has to be reworked before processing.  The manager wants to \n",
    "check whether the defective %  varies by centre. Please analyze the data at 5% significance level and help the manager \n",
    "draw appropriate inferences'''\n"
   ]
  },
  {
   "cell_type": "code",
   "execution_count": 146,
   "id": "445d74d5",
   "metadata": {},
   "outputs": [],
   "source": [
    "from scipy.stats import chi2_contingency\n",
    "from scipy.stats import chi2"
   ]
  },
  {
   "cell_type": "code",
   "execution_count": 147,
   "id": "c3d5767e",
   "metadata": {},
   "outputs": [],
   "source": [
    "cust=pd.read_csv(r'Desktop/Customer.csv')"
   ]
  },
  {
   "cell_type": "code",
   "execution_count": 148,
   "id": "dab3e0a3",
   "metadata": {},
   "outputs": [
    {
     "data": {
      "text/html": [
       "<div>\n",
       "<style scoped>\n",
       "    .dataframe tbody tr th:only-of-type {\n",
       "        vertical-align: middle;\n",
       "    }\n",
       "\n",
       "    .dataframe tbody tr th {\n",
       "        vertical-align: top;\n",
       "    }\n",
       "\n",
       "    .dataframe thead th {\n",
       "        text-align: right;\n",
       "    }\n",
       "</style>\n",
       "<table border=\"1\" class=\"dataframe\">\n",
       "  <thead>\n",
       "    <tr style=\"text-align: right;\">\n",
       "      <th></th>\n",
       "      <th>Phillippines</th>\n",
       "      <th>Indonesia</th>\n",
       "      <th>Malta</th>\n",
       "      <th>India</th>\n",
       "    </tr>\n",
       "  </thead>\n",
       "  <tbody>\n",
       "    <tr>\n",
       "      <th>0</th>\n",
       "      <td>Error Free</td>\n",
       "      <td>Error Free</td>\n",
       "      <td>Defective</td>\n",
       "      <td>Error Free</td>\n",
       "    </tr>\n",
       "    <tr>\n",
       "      <th>1</th>\n",
       "      <td>Error Free</td>\n",
       "      <td>Error Free</td>\n",
       "      <td>Error Free</td>\n",
       "      <td>Defective</td>\n",
       "    </tr>\n",
       "    <tr>\n",
       "      <th>2</th>\n",
       "      <td>Error Free</td>\n",
       "      <td>Defective</td>\n",
       "      <td>Defective</td>\n",
       "      <td>Error Free</td>\n",
       "    </tr>\n",
       "    <tr>\n",
       "      <th>3</th>\n",
       "      <td>Error Free</td>\n",
       "      <td>Error Free</td>\n",
       "      <td>Error Free</td>\n",
       "      <td>Error Free</td>\n",
       "    </tr>\n",
       "    <tr>\n",
       "      <th>4</th>\n",
       "      <td>Error Free</td>\n",
       "      <td>Error Free</td>\n",
       "      <td>Defective</td>\n",
       "      <td>Error Free</td>\n",
       "    </tr>\n",
       "    <tr>\n",
       "      <th>...</th>\n",
       "      <td>...</td>\n",
       "      <td>...</td>\n",
       "      <td>...</td>\n",
       "      <td>...</td>\n",
       "    </tr>\n",
       "    <tr>\n",
       "      <th>295</th>\n",
       "      <td>Error Free</td>\n",
       "      <td>Error Free</td>\n",
       "      <td>Error Free</td>\n",
       "      <td>Error Free</td>\n",
       "    </tr>\n",
       "    <tr>\n",
       "      <th>296</th>\n",
       "      <td>Error Free</td>\n",
       "      <td>Error Free</td>\n",
       "      <td>Error Free</td>\n",
       "      <td>Error Free</td>\n",
       "    </tr>\n",
       "    <tr>\n",
       "      <th>297</th>\n",
       "      <td>Error Free</td>\n",
       "      <td>Error Free</td>\n",
       "      <td>Defective</td>\n",
       "      <td>Error Free</td>\n",
       "    </tr>\n",
       "    <tr>\n",
       "      <th>298</th>\n",
       "      <td>Error Free</td>\n",
       "      <td>Error Free</td>\n",
       "      <td>Error Free</td>\n",
       "      <td>Error Free</td>\n",
       "    </tr>\n",
       "    <tr>\n",
       "      <th>299</th>\n",
       "      <td>Error Free</td>\n",
       "      <td>Defective</td>\n",
       "      <td>Defective</td>\n",
       "      <td>Error Free</td>\n",
       "    </tr>\n",
       "  </tbody>\n",
       "</table>\n",
       "<p>300 rows × 4 columns</p>\n",
       "</div>"
      ],
      "text/plain": [
       "    Phillippines   Indonesia       Malta       India\n",
       "0     Error Free  Error Free   Defective  Error Free\n",
       "1     Error Free  Error Free  Error Free   Defective\n",
       "2     Error Free   Defective   Defective  Error Free\n",
       "3     Error Free  Error Free  Error Free  Error Free\n",
       "4     Error Free  Error Free   Defective  Error Free\n",
       "..           ...         ...         ...         ...\n",
       "295   Error Free  Error Free  Error Free  Error Free\n",
       "296   Error Free  Error Free  Error Free  Error Free\n",
       "297   Error Free  Error Free   Defective  Error Free\n",
       "298   Error Free  Error Free  Error Free  Error Free\n",
       "299   Error Free   Defective   Defective  Error Free\n",
       "\n",
       "[300 rows x 4 columns]"
      ]
     },
     "execution_count": 148,
     "metadata": {},
     "output_type": "execute_result"
    }
   ],
   "source": [
    "cust"
   ]
  },
  {
   "cell_type": "code",
   "execution_count": 149,
   "id": "5e4e0212",
   "metadata": {},
   "outputs": [],
   "source": [
    "# Null Hypothesis H0: Variables are independent i.e. no relation b/w two categorical variables\n",
    "# Alternative Hypothesis H1: Variables are dependent i.e. There is a relation b/w two categorical variables"
   ]
  },
  {
   "cell_type": "code",
   "execution_count": 150,
   "id": "4576cca5",
   "metadata": {},
   "outputs": [
    {
     "name": "stdout",
     "output_type": "stream",
     "text": [
      "Error Free    271\n",
      "Defective      29\n",
      "Name: Phillippines, dtype: int64 Error Free    267\n",
      "Defective      33\n",
      "Name: Indonesia, dtype: int64 Error Free    269\n",
      "Defective      31\n",
      "Name: Malta, dtype: int64 Error Free    280\n",
      "Defective      20\n",
      "Name: India, dtype: int64\n"
     ]
    }
   ],
   "source": [
    "print(cust['Phillippines'].value_counts(),\n",
    "cust['Indonesia'].value_counts(),\n",
    "cust['Malta'].value_counts(),\n",
    "cust['India'].value_counts())"
   ]
  },
  {
   "cell_type": "code",
   "execution_count": 151,
   "id": "ec6afee1",
   "metadata": {},
   "outputs": [],
   "source": [
    "cust_array=[[271,267,269,280],[29,33,31,20]]"
   ]
  },
  {
   "cell_type": "code",
   "execution_count": 152,
   "id": "0e7a0e20",
   "metadata": {},
   "outputs": [],
   "source": [
    "statistic_value4,p4,dof4,expected4=chi2_contingency(cust_array)"
   ]
  },
  {
   "cell_type": "code",
   "execution_count": 153,
   "id": "a47351b9",
   "metadata": {},
   "outputs": [
    {
     "data": {
      "text/plain": [
       "3.858960685820355"
      ]
     },
     "execution_count": 153,
     "metadata": {},
     "output_type": "execute_result"
    }
   ],
   "source": [
    "statistic_value4"
   ]
  },
  {
   "cell_type": "code",
   "execution_count": 154,
   "id": "ef75de77",
   "metadata": {},
   "outputs": [
    {
     "data": {
      "text/plain": [
       "0.2771020991233135"
      ]
     },
     "execution_count": 154,
     "metadata": {},
     "output_type": "execute_result"
    }
   ],
   "source": [
    "p4"
   ]
  },
  {
   "cell_type": "code",
   "execution_count": 155,
   "id": "ce176360",
   "metadata": {},
   "outputs": [
    {
     "data": {
      "text/plain": [
       "3"
      ]
     },
     "execution_count": 155,
     "metadata": {},
     "output_type": "execute_result"
    }
   ],
   "source": [
    "dof4"
   ]
  },
  {
   "cell_type": "code",
   "execution_count": 156,
   "id": "3038f54f",
   "metadata": {},
   "outputs": [
    {
     "data": {
      "text/plain": [
       "array([[271.75, 271.75, 271.75, 271.75],\n",
       "       [ 28.25,  28.25,  28.25,  28.25]])"
      ]
     },
     "execution_count": 156,
     "metadata": {},
     "output_type": "execute_result"
    }
   ],
   "source": [
    "expected4"
   ]
  },
  {
   "cell_type": "code",
   "execution_count": 157,
   "id": "ef43c2f0",
   "metadata": {},
   "outputs": [
    {
     "name": "stdout",
     "output_type": "stream",
     "text": [
      "Statistical value is 3.859\n",
      "critical value is 7.815\n",
      "H0 is accepted, variables are unrelated and independent\n"
     ]
    }
   ],
   "source": [
    "alpha = 0.05\n",
    "prob=1-alpha\n",
    "critical_value4 = chi2.ppf(prob, dof4)\n",
    "print('Statistical value is', round(statistic_value4,3))\n",
    "print('critical value is',round(critical_value4,3))\n",
    "if abs(statistic_value4) < critical_value4:\n",
    "    print('H0 is accepted, variables are unrelated and independent')\n",
    "else:\n",
    "    print('H0 is rejected, variables are related and dependent')"
   ]
  }
 ],
 "metadata": {
  "kernelspec": {
   "display_name": "Python 3 (ipykernel)",
   "language": "python",
   "name": "python3"
  },
  "language_info": {
   "codemirror_mode": {
    "name": "ipython",
    "version": 3
   },
   "file_extension": ".py",
   "mimetype": "text/x-python",
   "name": "python",
   "nbconvert_exporter": "python",
   "pygments_lexer": "ipython3",
   "version": "3.9.13"
  }
 },
 "nbformat": 4,
 "nbformat_minor": 5
}
